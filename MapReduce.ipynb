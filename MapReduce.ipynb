{
  "cells": [
    {
      "cell_type": "markdown",
      "metadata": {},
      "source": [
        "Showcasing the process of how Mapper and Reducer functions work in Hadoop - Matthew Kondrak\n",
        "\n",
        "Goal is to find the maximum temperature for each year in provided txt file"
      ]
    },
    {
      "cell_type": "code",
      "execution_count": 1,
      "metadata": {
        "id": "v4YPUiEHynp1"
      },
      "outputs": [],
      "source": [
        "import pandas as pd\n",
        "import warnings\n",
        "warnings.simplefilter(action='ignore',category=FutureWarning)"
      ]
    },
    {
      "cell_type": "markdown",
      "metadata": {
        "id": "7zojKGrI1cFF"
      },
      "source": [
        "Step 1: Data Cleaning / Preparing the data"
      ]
    },
    {
      "cell_type": "code",
      "execution_count": 2,
      "metadata": {
        "colab": {
          "base_uri": "https://localhost:8080/",
          "height": 419
        },
        "id": "XKYUretgyvh2",
        "outputId": "ea86b241-06fc-4187-8673-cb75b3257481"
      },
      "outputs": [
        {
          "name": "stdout",
          "output_type": "stream",
          "text": [
            "           0      1         2      3\n",
            "0    (201803    95)   (201708    61)\n",
            "1    (202002    88)   (201501    88)\n",
            "2    (202004    76)   (201602    35)\n",
            "3    (201012   113)   (201012   115)\n",
            "4    (201009   114)   (201708   114)\n",
            "..       ...    ...       ...    ...\n",
            "995  (201906    97)   (201209    81)\n",
            "996  (201001    74)   (201111    98)\n",
            "997  (201209   115)   (201105    48)\n",
            "998  (201009   105)   (201004    41)\n",
            "999  (201409   107)   (201912   113)\n",
            "\n",
            "[1000 rows x 4 columns]\n"
          ]
        }
      ],
      "source": [
        "#inputing the txt file\n",
        "temp=pd.read_csv('/Users/matthewkondrak/desktop/temperatures.txt',header = None)\n",
        "print(temp)"
      ]
    },
    {
      "cell_type": "code",
      "execution_count": 3,
      "metadata": {},
      "outputs": [
        {
          "name": "stdout",
          "output_type": "stream",
          "text": [
            "     Year 1  Temperature 1  Year 2  Temperature 2\n",
            "0    201803             95  201708             61\n",
            "1    202002             88  201501             88\n",
            "2    202004             76  201602             35\n",
            "3    201012            113  201012            115\n",
            "4    201009            114  201708            114\n",
            "..      ...            ...     ...            ...\n",
            "995  201906             97  201209             81\n",
            "996  201001             74  201111             98\n",
            "997  201209            115  201105             48\n",
            "998  201009            105  201004             41\n",
            "999  201409            107  201912            113\n",
            "\n",
            "[1000 rows x 4 columns]\n"
          ]
        }
      ],
      "source": [
        "#seperating the data into four columns\n",
        "temp1=temp[0]\n",
        "temp2=temp[1]\n",
        "temp3=temp[2]\n",
        "temp4=temp[3]\n",
        "\n",
        "#removing punctuations and converting string\n",
        "temp1=temp1.str.replace(\"(\",\"\")\n",
        "column1=pd.DataFrame(temp1)\n",
        "temp2=temp2.str.replace(\")\",\"\")\n",
        "column2=pd.DataFrame(temp2)\n",
        "temp3=temp3.str.replace(\"(\",\"\")\n",
        "column3=pd.DataFrame(temp3)\n",
        "temp4=temp4.str.replace(\")\",\"\")\n",
        "column4=pd.DataFrame(temp4)\n",
        "\n",
        "#joining data cleaned columns back together\n",
        "DataFrame=pd.concat([column1,column2,column3,column4],join='inner',axis=1)\n",
        "DataFrame=DataFrame.apply(pd.to_numeric)\n",
        "\n",
        "#labeling the columns\n",
        "dict= {0:\"Year 1\",1:\"Temperature 1\",2:\"Year 2\",3:\"Temperature 2\"}\n",
        "DataFrame.rename(columns=dict,inplace=True)\n",
        "print(DataFrame)"
      ]
    },
    {
      "cell_type": "markdown",
      "metadata": {
        "id": "F_O_kV8t3q6K"
      },
      "source": [
        "Step 2: Splitting the data"
      ]
    },
    {
      "cell_type": "code",
      "execution_count": 4,
      "metadata": {
        "id": "MDRFKG-iy5ts"
      },
      "outputs": [],
      "source": [
        "part1=DataFrame[:500]\n",
        "part2=DataFrame[500:]"
      ]
    },
    {
      "cell_type": "markdown",
      "metadata": {},
      "source": [
        "Step 3: Mapper Function 1"
      ]
    },
    {
      "cell_type": "code",
      "execution_count": 5,
      "metadata": {
        "id": "VgO8kF0f-Eym"
      },
      "outputs": [
        {
          "name": "stdout",
          "output_type": "stream",
          "text": [
            "     Year  Temp\n",
            "0    2018    95\n",
            "1    2020    88\n",
            "2    2020    76\n",
            "3    2010   113\n",
            "4    2010   114\n",
            "..    ...   ...\n",
            "495  2020    39\n",
            "496  2018   113\n",
            "497  2017   105\n",
            "498  2020    66\n",
            "499  2019    88\n",
            "\n",
            "[1000 rows x 2 columns]\n"
          ]
        }
      ],
      "source": [
        "#map per each column\n",
        "map1=part1[\"Year 1\"]\n",
        "map2=part1[\"Temperature 1\"]\n",
        "map3=part1[\"Year 2\"]\n",
        "map4=part1[\"Temperature 2\"]\n",
        "\n",
        "#applying map function to each of the four maps in part1\n",
        "DataFrame=pd.DataFrame(data=list(enumerate(map1,start=1)))\n",
        "DataFrame1=DataFrame.applymap(str).applymap(lambda x:\"{}\".format(x[:-2]))\n",
        "DataFrame1=DataFrame1.drop(DataFrame.columns[[0]],axis=1)\n",
        "\n",
        "DataFrame=pd.DataFrame(data=list(enumerate(map2,start=1)))\n",
        "DataFrame2=DataFrame.drop(DataFrame.columns[[0]],axis=1)\n",
        "\n",
        "DataFrame=pd.DataFrame(data=list(enumerate(map3,start=1)))\n",
        "DataFrame3=DataFrame.applymap(str).applymap(lambda x:\"{}\".format(x[:-2]))\n",
        "DataFrame3=DataFrame3.drop(DataFrame.columns[[0]],axis=1)\n",
        "\n",
        "DataFrame=pd.DataFrame(data=list(enumerate(map4,start=1)))\n",
        "DataFrame4=DataFrame.drop(DataFrame.columns[[0]],axis=1)\n",
        "\n",
        "#Concatenating the two Year columns\n",
        "year1=pd.concat([DataFrame1,DataFrame3])\n",
        "year1=year1.rename(columns={1:\"Year\"})\n",
        "\n",
        "#Concatenating the two Temp columns\n",
        "dftemp1=pd.concat([DataFrame2,DataFrame4])\n",
        "outputframe1=pd.DataFrame(year1)\n",
        "outputframe1['Temp']=dftemp1\n",
        "print(outputframe1)"
      ]
    },
    {
      "cell_type": "markdown",
      "metadata": {
        "id": "I35kAkNgA9Mc"
      },
      "source": [
        "Step 3: Mapper Function 2"
      ]
    },
    {
      "cell_type": "code",
      "execution_count": 6,
      "metadata": {
        "colab": {
          "base_uri": "https://localhost:8080/",
          "height": 419
        },
        "id": "OuQHhdURyyhX",
        "outputId": "3214396c-1c16-4ae0-a5be-609a7fae6d0b"
      },
      "outputs": [
        {
          "name": "stdout",
          "output_type": "stream",
          "text": [
            "     Year  Temp\n",
            "0    2016    39\n",
            "1    2014    66\n",
            "2    2015    43\n",
            "3    2015    94\n",
            "4    2020    37\n",
            "..    ...   ...\n",
            "495  2012    81\n",
            "496  2011    98\n",
            "497  2011    48\n",
            "498  2010    41\n",
            "499  2019   113\n",
            "\n",
            "[1000 rows x 2 columns]\n"
          ]
        }
      ],
      "source": [
        "#map per each column\n",
        "map5=part2[\"Year 1\"]\n",
        "map6=part2[\"Temperature 1\"]\n",
        "map7=part2[\"Year 2\"]\n",
        "map8=part2[\"Temperature 2\"]\n",
        "\n",
        "#applying map function to each of the four maps in part2\n",
        "DataFrame=pd.DataFrame(data=list(enumerate(map5,start=1)))\n",
        "DataFrame5=DataFrame.applymap(str).applymap(lambda s:\"{}\".format(s[:-2]))\n",
        "DataFrame5=DataFrame5.drop(DataFrame.columns[[0]],axis=1)\n",
        "\n",
        "DataFrame=pd.DataFrame(data=list(enumerate(map6,start=1)))\n",
        "DataFrame6=DataFrame.drop(DataFrame.columns[[0]],axis=1)\n",
        "\n",
        "DataFrame=pd.DataFrame(data=list(enumerate(map7,start=1)))\n",
        "DataFrame7=DataFrame.applymap(str).applymap(lambda s:\"{}\".format(s[:-2]))\n",
        "DataFrame7=DataFrame7.drop(DataFrame.columns[[0]],axis=1)\n",
        "\n",
        "DataFrame=pd.DataFrame(data=list(enumerate(map8,start=1)))\n",
        "DataFrame8=DataFrame.drop(DataFrame.columns[[0]],axis=1)\n",
        "\n",
        "#Concatenating the two Year columns\n",
        "year2=pd.concat([DataFrame5,DataFrame7])\n",
        "year2=year2.rename(columns={1:\"Year\"})\n",
        "\n",
        "#Concatenating the two Temp columns\n",
        "dftemp2=pd.concat([DataFrame6,DataFrame8])\n",
        "outputframe2=pd.DataFrame(year2)\n",
        "outputframe2['Temp']=dftemp2\n",
        "print(outputframe2)"
      ]
    },
    {
      "cell_type": "code",
      "execution_count": 7,
      "metadata": {
        "id": "eSfN7CKUDD67"
      },
      "outputs": [],
      "source": [
        "df_part1=pd.DataFrame(outputframe1)\n",
        "df_part2=pd.DataFrame(outputframe2)"
      ]
    },
    {
      "cell_type": "markdown",
      "metadata": {
        "id": "jLIveShZB-VA"
      },
      "source": [
        "Step 4: Sort Function in ascending order"
      ]
    },
    {
      "cell_type": "code",
      "execution_count": 8,
      "metadata": {
        "colab": {
          "base_uri": "https://localhost:8080/",
          "height": 419
        },
        "id": "PriSbRzjCDFk",
        "outputId": "4be30b72-2f84-429d-c72b-a59465067ede"
      },
      "outputs": [
        {
          "name": "stdout",
          "output_type": "stream",
          "text": [
            "      Year  Temp\n",
            "0     2010   105\n",
            "1     2010   119\n",
            "2     2010    98\n",
            "3     2010   114\n",
            "4     2010    54\n",
            "...    ...   ...\n",
            "1995  2020    74\n",
            "1996  2020   116\n",
            "1997  2020   108\n",
            "1998  2020   103\n",
            "1999  2020    36\n",
            "\n",
            "[2000 rows x 2 columns]\n"
          ]
        }
      ],
      "source": [
        "sort=pd.concat([df_part1,df_part2])\n",
        "#sorting by key in ascending order\n",
        "sort=sort.sort_values(by='Year',ascending=True).reset_index(drop=True)\n",
        "print(sort)"
      ]
    },
    {
      "cell_type": "markdown",
      "metadata": {
        "id": "ldSahAXyDrBs"
      },
      "source": [
        "Step 5: Partition Function & Step 6: Reducer Function"
      ]
    },
    {
      "cell_type": "code",
      "execution_count": 9,
      "metadata": {
        "colab": {
          "base_uri": "https://localhost:8080/"
        },
        "id": "Di3Wlu4YDvkL",
        "outputId": "cbd92637-84ba-4511-c250-5256d344194a"
      },
      "outputs": [],
      "source": [
        "import functools\n",
        "#reducer function for partition 1\n",
        "sort['Year']=pd.to_datetime(sort['Year'])\n",
        "reducer1=(sort['Year']<='2015')\n",
        "reducer1=pd.DataFrame(sort.loc[reducer1])\n",
        "#print(reducer1)\n",
        "\n",
        "#finding maximum temperature for partition 1\n",
        "output1=reducer1.groupby(lambda x:reducer1['Year'][x].year)[\"Temp\"].max()\n",
        "\n",
        "#reducer function for partition 2\n",
        "sort['Year']=pd.to_datetime(sort['Year'])\n",
        "reducer2=(sort['Year']>='2016')\n",
        "reducer2=pd.DataFrame(sort.loc[reducer2])\n",
        "#print(reducer2)\n",
        "\n",
        "#finding maximum temperature for partition 2\n",
        "output2=reducer2.groupby(lambda x:reducer2['Year'][x].year)[\"Temp\"].max()"
      ]
    },
    {
      "cell_type": "markdown",
      "metadata": {},
      "source": [
        "Step 7: Main Function"
      ]
    },
    {
      "cell_type": "code",
      "execution_count": 10,
      "metadata": {},
      "outputs": [
        {
          "name": "stdout",
          "output_type": "stream",
          "text": [
            "2010    120\n",
            "2011    120\n",
            "2012    120\n",
            "2013    120\n",
            "2014    120\n",
            "2015    120\n",
            "2016    120\n",
            "2017    120\n",
            "2018    120\n",
            "2019    120\n",
            "2020    120\n",
            "Name: Temp, dtype: int64\n"
          ]
        }
      ],
      "source": [
        "#combining the two reducer functions\n",
        "results=(pd.concat([output1,output2]))\n",
        "print(results)"
      ]
    },
    {
      "cell_type": "markdown",
      "metadata": {},
      "source": [
        "Saving Final Word Count Output as csv"
      ]
    },
    {
      "cell_type": "code",
      "execution_count": 11,
      "metadata": {},
      "outputs": [],
      "source": [
        "import csv\n",
        "resultsdf = pd.DataFrame(results,columns=['Temp'])\n",
        "resultsdf.rename(columns = {0:'year',1:'max temp'}, inplace=True)\n",
        "\n",
        "resultsdf.to_csv(r'/Users/matthewkondrak/Desktop/output.csv', header=True)"
      ]
    }
  ],
  "metadata": {
    "colab": {
      "collapsed_sections": [],
      "name": "LDA2.ipynb",
      "provenance": []
    },
    "interpreter": {
      "hash": "b0fa6594d8f4cbf19f97940f81e996739fb7646882a419484c72d19e05852a7e"
    },
    "kernelspec": {
      "display_name": "Python 3.9.13 64-bit",
      "language": "python",
      "name": "python3"
    },
    "language_info": {
      "codemirror_mode": {
        "name": "ipython",
        "version": 3
      },
      "file_extension": ".py",
      "mimetype": "text/x-python",
      "name": "python",
      "nbconvert_exporter": "python",
      "pygments_lexer": "ipython3",
      "version": "3.9.13"
    }
  },
  "nbformat": 4,
  "nbformat_minor": 0
}
